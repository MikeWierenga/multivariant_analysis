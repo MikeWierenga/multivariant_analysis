{
 "cells": [
  {
   "cell_type": "markdown",
   "id": "74f5e521",
   "metadata": {},
   "source": [
    "# Multivariate analysis\n",
    "If you read this good luck! You can do this. If the exam went horrible we can drink beer/wine after :D.\n",
    "\n",
    "    "
   ]
  },
  {
   "cell_type": "markdown",
   "id": "8055aa2f",
   "metadata": {},
   "source": [
    "# Methods used in this course\n",
    "Here are the methods that are used and a small introduction when they are used. the following chapters we go through each method and explain what it is when it is used and how to use it.\n",
    "- single dataset as 1 group:\n",
    "    - Principle component analysis(PCA)\n",
    "    - Factor analysis\n",
    "    - MDS\n",
    "    - SGP\n",
    "- single dataset with n groups:\n",
    "    - Linear discriminant analysis\n",
    "- 2 sets of data:\n",
    "    - regression:\n",
    "        - MultiLinear Regression (MLR)\n",
    "        - Principle Component Regression(PCA + MLR)\n",
    "        - Least Square Regression(LSR)"
   ]
  },
  {
   "attachments": {
    "image-2.png": {
     "image/png": "[encoded data removed]"
    }
   },
   "cell_type": "markdown",
   "id": "d5f2ce1b",
   "metadata": {},
   "source": [
    "## Principle component analysis (PCA)\n",
    "### What is it?\n",
    "A technique for analyzing large datasets containing a high number of dimensions/features per observation, increasing the interpretabillity of data while preserving the maximum amount of information, and enabling the visualization of multidimensional data. it is a method that describes the internal structure of a set of observations, with measurements in multiple variables. The observations in the dataset are the columns and the variables are the rows in the dataset. these variables are not wholly independent, and each pair of variables has a characteristic covariance and correlation\n",
    "![image-2.png](attachment:image-2.png)\n",
    "\n",
    "\n",
    "\n",
    "### When to use it?\n",
    "\n",
    "### How to use it/how it works?\n",
    "### Mathmatics(for the nerds :P)"
   ]
  }
 ],
 "metadata": {
  "kernelspec": {
   "display_name": "Python 3 (ipykernel)",
   "language": "python",
   "name": "python3"
  },
  "language_info": {
   "codemirror_mode": {
    "name": "ipython",
    "version": 3
   },
   "file_extension": ".py",
   "mimetype": "text/x-python",
   "name": "python",
   "nbconvert_exporter": "python",
   "pygments_lexer": "ipython3",
   "version": "3.10.8"
  }
 },
 "nbformat": 4,
 "nbformat_minor": 5
}
